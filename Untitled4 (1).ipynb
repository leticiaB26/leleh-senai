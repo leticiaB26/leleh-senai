{
  "nbformat": 4,
  "nbformat_minor": 0,
  "metadata": {
    "colab": {
      "provenance": []
    },
    "kernelspec": {
      "name": "python3",
      "display_name": "Python 3"
    },
    "language_info": {
      "name": "python"
    }
  },
  "cells": [
    {
      "cell_type": "code",
      "execution_count": 65,
      "metadata": {
        "id": "Ljg_f_UtWfm-"
      },
      "outputs": [],
      "source": [
        "class Veiculo:\n",
        "    def __init__(self, marca, modelo, ano):\n",
        "        self.__marca = marca\n",
        "        self.__modelo = modelo\n",
        "        self.__ano = ano\n",
        "\n",
        "    def get_marca(self):\n",
        "        return self.__marca\n",
        "\n",
        "    def set_marca(self, marca):\n",
        "        self.__marca = marca\n",
        "\n",
        "    def get_modelo(self):\n",
        "        return self.__modelo\n",
        "\n",
        "    def set_modelo(self, modelo):\n",
        "        self.__modelo = modelo\n",
        "\n",
        "    def get_ano(self):\n",
        "        return self.__ano\n",
        "\n",
        "    def set_ano(self, ano):\n",
        "        self.__ano = ano\n",
        "\n",
        "    def detalhes_veiculo(self):\n",
        "        raise NotImplementedError(\"Este método deve ser sobrescrito pelas subclasses\")\n",
        "\n",
        "class Carro(Veiculo):\n",
        "    def __init__(self, marca, modelo, ano, num_portas):\n",
        "        super().__init__(marca, modelo, ano)\n",
        "        self.__num_portas = num_portas\n",
        "\n",
        "    def get_num_portas(self):\n",
        "        return self.__num_portas\n",
        "\n",
        "    def set_num_portas(self, num_portas):\n",
        "        self.__num_portas = num_portas\n",
        "\n",
        "    def detalhes_veiculo(self):\n",
        "        return f\"Carro: {self.get_marca()} {self.get_modelo()} ({self.get_ano()}), {self.__num_portas} portas\"\n",
        "\n",
        "    def set_modelo(self, modelo):\n",
        "        self.__modelo = modelo\n",
        "\n",
        "class Moto(Veiculo):\n",
        "    def __init__(self, marca, modelo, ano, tipo):\n",
        "        super().__init__(marca, modelo, ano)\n",
        "        self.__tipo = tipo\n",
        "\n",
        "    def get_tipo(self):\n",
        "        return self.__tipo\n",
        "\n",
        "    def set_tipo(self, tipo):\n",
        "        self.__tipo = tipo\n",
        "\n",
        "    def detalhes_veiculo(self):\n",
        "        return f\"Moto: {self.get_marca()} {self.get_modelo()} ({self.get_ano()}), Tipo: {self.__tipo}\""
      ]
    },
    {
      "cell_type": "code",
      "source": [
        "ferrari = Veiculo(\"fiat\", \"uno\", 2023)"
      ],
      "metadata": {
        "id": "btsCBcMoYhya"
      },
      "execution_count": 20,
      "outputs": []
    },
    {
      "cell_type": "code",
      "source": [
        "ferrari.get_marca()"
      ],
      "metadata": {
        "colab": {
          "base_uri": "https://localhost:8080/",
          "height": 35
        },
        "id": "Ee-Dl_CVZNA2",
        "outputId": "fe385ed9-3d7e-4219-cf35-6d444335712f"
      },
      "execution_count": 7,
      "outputs": [
        {
          "output_type": "execute_result",
          "data": {
            "text/plain": [
              "'fiat'"
            ],
            "application/vnd.google.colaboratory.intrinsic+json": {
              "type": "string"
            }
          },
          "metadata": {},
          "execution_count": 7
        }
      ]
    },
    {
      "cell_type": "code",
      "source": [
        "ferrari.get_modelo()"
      ],
      "metadata": {
        "colab": {
          "base_uri": "https://localhost:8080/",
          "height": 35
        },
        "id": "MKkImOWhZ14W",
        "outputId": "df3ce742-5a52-4fd9-8608-afca3553b566"
      },
      "execution_count": 9,
      "outputs": [
        {
          "output_type": "execute_result",
          "data": {
            "text/plain": [
              "'uno'"
            ],
            "application/vnd.google.colaboratory.intrinsic+json": {
              "type": "string"
            }
          },
          "metadata": {},
          "execution_count": 9
        }
      ]
    },
    {
      "cell_type": "code",
      "source": [
        "ferrari.get_ano()"
      ],
      "metadata": {
        "colab": {
          "base_uri": "https://localhost:8080/"
        },
        "id": "jLrYzUJsZ5ue",
        "outputId": "247e9040-d5ca-4de0-fe95-225340ffdb09"
      },
      "execution_count": 10,
      "outputs": [
        {
          "output_type": "execute_result",
          "data": {
            "text/plain": [
              "2023"
            ]
          },
          "metadata": {},
          "execution_count": 10
        }
      ]
    },
    {
      "cell_type": "code",
      "source": [
        "palio = Carro(\"Fiat\", \"Palio\", 2023, 4)"
      ],
      "metadata": {
        "id": "YyU0ikDqZ-NZ"
      },
      "execution_count": 11,
      "outputs": []
    },
    {
      "cell_type": "code",
      "source": [
        "palio.get_num_portas()"
      ],
      "metadata": {
        "colab": {
          "base_uri": "https://localhost:8080/"
        },
        "id": "wg5iOWtpbJwP",
        "outputId": "aafb9af0-0f49-4df3-9f71-0009f7fad707"
      },
      "execution_count": 17,
      "outputs": [
        {
          "output_type": "execute_result",
          "data": {
            "text/plain": [
              "4"
            ]
          },
          "metadata": {},
          "execution_count": 17
        }
      ]
    },
    {
      "cell_type": "code",
      "source": [
        "bis = Moto(\"Honda\", \"Civic\", 2000, \"pequena\")"
      ],
      "metadata": {
        "id": "RWjO478sbR4P"
      },
      "execution_count": 23,
      "outputs": []
    },
    {
      "cell_type": "code",
      "source": [
        "palio.detalhes_veiculo()"
      ],
      "metadata": {
        "colab": {
          "base_uri": "https://localhost:8080/",
          "height": 35
        },
        "id": "pTmINxJJckOP",
        "outputId": "1c6bbe6c-a641-49b0-b20f-59f02b27dcfb"
      },
      "execution_count": 24,
      "outputs": [
        {
          "output_type": "execute_result",
          "data": {
            "text/plain": [
              "'Carro: Fiat Palio (2023), 4 portas'"
            ],
            "application/vnd.google.colaboratory.intrinsic+json": {
              "type": "string"
            }
          },
          "metadata": {},
          "execution_count": 24
        }
      ]
    },
    {
      "cell_type": "code",
      "source": [
        "bis.detalhes_veiculo()"
      ],
      "metadata": {
        "colab": {
          "base_uri": "https://localhost:8080/",
          "height": 35
        },
        "id": "-PH7tw8ccmwn",
        "outputId": "2e11edda-b7be-484b-ddf4-920fd3025afc"
      },
      "execution_count": 25,
      "outputs": [
        {
          "output_type": "execute_result",
          "data": {
            "text/plain": [
              "'Moto: Honda Civic (2000), Tipo: pequena'"
            ],
            "application/vnd.google.colaboratory.intrinsic+json": {
              "type": "string"
            }
          },
          "metadata": {},
          "execution_count": 25
        }
      ]
    },
    {
      "cell_type": "code",
      "source": [
        "motoex = Moto(\"Honda\", \"CB500\", 2022, \"Esportiva\")"
      ],
      "metadata": {
        "id": "WjgyIK6eeKfd"
      },
      "execution_count": 50,
      "outputs": []
    },
    {
      "cell_type": "code",
      "source": [
        "motoex.detalhes_veiculo()"
      ],
      "metadata": {
        "colab": {
          "base_uri": "https://localhost:8080/",
          "height": 35
        },
        "id": "aMW0Hqw0ebR4",
        "outputId": "7efc9f78-5256-4268-fafd-c43e2120fee8"
      },
      "execution_count": 51,
      "outputs": [
        {
          "output_type": "execute_result",
          "data": {
            "text/plain": [
              "'Moto: Honda CB500 (2022), Tipo: Esportiva'"
            ],
            "application/vnd.google.colaboratory.intrinsic+json": {
              "type": "string"
            }
          },
          "metadata": {},
          "execution_count": 51
        }
      ]
    },
    {
      "cell_type": "code",
      "source": [
        "meu_carro_e = Carro(\"gol\", \"bola\", 1999, 2)"
      ],
      "metadata": {
        "id": "XysxdhdTefGx"
      },
      "execution_count": 66,
      "outputs": []
    },
    {
      "cell_type": "code",
      "source": [
        "meu_carro_e.atualiza_modelo(\"fiesta\")"
      ],
      "metadata": {
        "colab": {
          "base_uri": "https://localhost:8080/",
          "height": 141
        },
        "id": "dF2T1j9YfF_r",
        "outputId": "8b7f6f85-cd8f-4d92-bef9-edb6dda090b7"
      },
      "execution_count": 67,
      "outputs": [
        {
          "output_type": "error",
          "ename": "AttributeError",
          "evalue": "'Carro' object has no attribute 'atualiza_modelo'",
          "traceback": [
            "\u001b[0;31m---------------------------------------------------------------------------\u001b[0m",
            "\u001b[0;31mAttributeError\u001b[0m                            Traceback (most recent call last)",
            "\u001b[0;32m<ipython-input-67-35b8e97d0e65>\u001b[0m in \u001b[0;36m<cell line: 1>\u001b[0;34m()\u001b[0m\n\u001b[0;32m----> 1\u001b[0;31m \u001b[0mmeu_carro_e\u001b[0m\u001b[0;34m.\u001b[0m\u001b[0matualiza_modelo\u001b[0m\u001b[0;34m(\u001b[0m\u001b[0;34m\"fiesta\"\u001b[0m\u001b[0;34m)\u001b[0m\u001b[0;34m\u001b[0m\u001b[0;34m\u001b[0m\u001b[0m\n\u001b[0m",
            "\u001b[0;31mAttributeError\u001b[0m: 'Carro' object has no attribute 'atualiza_modelo'"
          ]
        }
      ]
    },
    {
      "cell_type": "code",
      "source": [
        "meu_carro_e.modelo"
      ],
      "metadata": {
        "colab": {
          "base_uri": "https://localhost:8080/",
          "height": 141
        },
        "id": "NZ4c1pIQkOZX",
        "outputId": "f360970a-37c7-462f-d32b-5f9b7bd4a022"
      },
      "execution_count": 57,
      "outputs": [
        {
          "output_type": "error",
          "ename": "AttributeError",
          "evalue": "'Carro' object has no attribute 'modelo'",
          "traceback": [
            "\u001b[0;31m---------------------------------------------------------------------------\u001b[0m",
            "\u001b[0;31mAttributeError\u001b[0m                            Traceback (most recent call last)",
            "\u001b[0;32m<ipython-input-57-33561af43163>\u001b[0m in \u001b[0;36m<cell line: 1>\u001b[0;34m()\u001b[0m\n\u001b[0;32m----> 1\u001b[0;31m \u001b[0mmeu_carro_e\u001b[0m\u001b[0;34m.\u001b[0m\u001b[0mmodelo\u001b[0m\u001b[0;34m\u001b[0m\u001b[0;34m\u001b[0m\u001b[0m\n\u001b[0m",
            "\u001b[0;31mAttributeError\u001b[0m: 'Carro' object has no attribute 'modelo'"
          ]
        }
      ]
    },
    {
      "cell_type": "code",
      "source": [
        "meu_carro_e.detalhes_veiculo()"
      ],
      "metadata": {
        "colab": {
          "base_uri": "https://localhost:8080/",
          "height": 35
        },
        "id": "SskSPE3TkaBo",
        "outputId": "f4594e3b-e9d7-4670-f634-17b421d6ec8c"
      },
      "execution_count": 44,
      "outputs": [
        {
          "output_type": "execute_result",
          "data": {
            "text/plain": [
              "'Carro: gol bola (1999), 2 portas'"
            ],
            "application/vnd.google.colaboratory.intrinsic+json": {
              "type": "string"
            }
          },
          "metadata": {},
          "execution_count": 44
        }
      ]
    }
  ]
}